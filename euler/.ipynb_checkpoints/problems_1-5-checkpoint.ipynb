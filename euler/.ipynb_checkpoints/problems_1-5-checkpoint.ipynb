{
 "cells": [
  {
   "cell_type": "markdown",
   "id": "c98e856a-2f0e-471d-8dad-e9b86b293f03",
   "metadata": {},
   "source": [
    "## **1. 1000보다 작은 자연수 중에서 3 또는 5의 배수를 모두 더하면?**"
   ]
  },
  {
   "cell_type": "markdown",
   "id": "9bcbd7dc-8d46-414e-88a2-90d41f47a7ff",
   "metadata": {},
   "source": [
    "10보다 작은 자연수 중에서 3 또는 5의 배수는 3, 5, 6, 9 이고, 이것을 모두 더하면 23입니다.\n",
    "\n",
    "1000보다 작은 자연수 중에서 3 또는 5의 배수를 모두 더하면 얼마일까요?"
   ]
  },
  {
   "cell_type": "code",
   "execution_count": 20,
   "id": "8579ab16-fb72-4dd5-a0a3-ea4a77efe837",
   "metadata": {},
   "outputs": [
    {
     "name": "stdout",
     "output_type": "stream",
     "text": [
      "233168\n"
     ]
    }
   ],
   "source": [
    "sum = 0\n",
    "for i in range(1000):\n",
    "    if i % 3 == 0 or i % 5 == 0:\n",
    "        sum += i\n",
    "print(sum)"
   ]
  },
  {
   "cell_type": "markdown",
   "id": "ad2056a3-2db1-4ef6-b13f-241d060a48ed",
   "metadata": {},
   "source": [
    "## **2. 피보나치 수열에서 4백만 이하이면서 짝수인 항의 합**"
   ]
  },
  {
   "cell_type": "markdown",
   "id": "544f673f-3a03-45ff-b732-8a80319f7c63",
   "metadata": {},
   "source": [
    "피보나치(Fibonacci) 수열의 각 항은 바로 앞의 항 두 개를 더한 것입니다. 1과 2로 시작하는 경우 이 수열은 아래와 같습니다.\n",
    "\n",
    "1, 2, 3, 5, 8, 13, 21, 34, 55, 89, ...\n",
    "4백만 이하의 짝수 값을 갖는 모든 피보나치 항을 더하면 얼마가 됩니까?"
   ]
  },
  {
   "cell_type": "code",
   "execution_count": 22,
   "id": "2ed7425e-ab43-4be0-a424-04da356430dc",
   "metadata": {},
   "outputs": [
    {
     "name": "stdout",
     "output_type": "stream",
     "text": [
      "4613732\n"
     ]
    }
   ],
   "source": [
    "series_list = []\n",
    "i = 0\n",
    "while True:\n",
    "    if i < 3:\n",
    "        series_list.append(i)\n",
    "    else:\n",
    "        series_list.append(series_list[-1] + series_list[-2])\n",
    "    \n",
    "    if series_list[-1] > 4000000:\n",
    "        break\n",
    "    i += 1\n",
    "\n",
    "sum_even_num = 0\n",
    "for num in series_list:\n",
    "    if num % 2 == 0:\n",
    "        sum_even_num += num\n",
    "\n",
    "print(sum_even_num)"
   ]
  },
  {
   "cell_type": "markdown",
   "id": "055607ab-af1e-4abf-a839-fd78ef905d79",
   "metadata": {},
   "source": [
    "## **3. 가장 큰 소인수 구하기**"
   ]
  },
  {
   "cell_type": "markdown",
   "id": "00f431a0-af78-4d6e-866f-25d9da6b2690",
   "metadata": {},
   "source": [
    "어떤 수를 소수의 곱으로만 나타내는 것을 소인수분해라 하고, 이 소수들을 그 수의 소인수라고 합니다.\n",
    "예를 들면 13195의 소인수는 5, 7, 13, 29 입니다.\n",
    "\n",
    "600851475143의 소인수 중에서 가장 큰 수를 구하세요."
   ]
  },
  {
   "cell_type": "markdown",
   "id": "e0d34d04-8435-4880-a2cc-b4c0cd2db0be",
   "metadata": {},
   "source": [
    "- 세 자리 수의 시작값 설정\n",
    "- 두 값 곱하기\n",
    "- 대칭수 리스트 담기\n",
    "- 리스트 중 맥스 값"
   ]
  },
  {
   "cell_type": "code",
   "execution_count": 5,
   "id": "481b5bc5-4ebc-4aa4-bffa-9ee22aba413e",
   "metadata": {},
   "outputs": [
    {
     "name": "stdout",
     "output_type": "stream",
     "text": [
      "max of integer_factorization_list: 6857\n"
     ]
    }
   ],
   "source": [
    "num = 600851475143\n",
    "i = 2\n",
    "integer_factorization_list = []\n",
    "\n",
    "def multiply(arr):\n",
    "    if len(arr) == 0:\n",
    "        return 0\n",
    "    else:\n",
    "        return eval('*'.join([str(n) for n in arr]))\n",
    "\n",
    "while True:\n",
    "    tmp_integer_list = []\n",
    "    if num % i == 0:\n",
    "        for j in range(1, i + 1):\n",
    "            if i % j == 0:\n",
    "                tmp_integer_list.append(j)\n",
    "            else:\n",
    "                continue\n",
    "        if len(tmp_integer_list) == 2:\n",
    "            integer_factorization_list.append(tmp_integer_list[-1])\n",
    "\n",
    "    i += 1\n",
    "    \n",
    "    if multiply(integer_factorization_list) == num:\n",
    "        break\n",
    " \n",
    "print(f\"max of integer_factorization_list: {max(integer_factorization_list)}\")"
   ]
  },
  {
   "cell_type": "markdown",
   "id": "8f5b8a98-d8fe-4566-9cee-a46377673a09",
   "metadata": {},
   "source": [
    "## **4. 세자리 수를 곱해 만들 수 있는 가장 큰 대칭수**"
   ]
  },
  {
   "cell_type": "markdown",
   "id": "72096770-803a-41b2-863b-267e77420cf1",
   "metadata": {},
   "source": [
    "앞에서부터 읽을 때나 뒤에서부터 읽을 때나 모양이 같은 수를 대칭수(palindrome)라고 부릅니다.\n",
    "\n",
    "두 자리 수를 곱해 만들 수 있는 대칭수 중 가장 큰 수는 9009 (= 91 × 99) 입니다.\n",
    "\n",
    "세 자리 수를 곱해 만들 수 있는 가장 큰 대칭수는 얼마입니까?"
   ]
  },
  {
   "cell_type": "markdown",
   "id": "3765bbd7-d29d-40e2-bcda-82873eb9adcd",
   "metadata": {},
   "source": [
    "- 세 자리 수의 시작값 설정\n",
    "- 두 값 곱하기\n",
    "- 대칭수 리스트 담기\n",
    "- 리스트 중 맥스 값"
   ]
  },
  {
   "cell_type": "code",
   "execution_count": 6,
   "id": "b6cc39d8-fd76-4a08-b9aa-5a29c2e5e44a",
   "metadata": {},
   "outputs": [
    {
     "name": "stdout",
     "output_type": "stream",
     "text": [
      "max of palindrome_arr: 906609\n"
     ]
    }
   ],
   "source": [
    "start_num = 100\n",
    "end_num = 1000\n",
    "\n",
    "def check_palindrome(multiply_num):\n",
    "    str_num = str(multiply_num)\n",
    "    reversed_str_num = str_num[::-1]\n",
    "    if reversed_str_num == str_num:\n",
    "        return True\n",
    "    else:\n",
    "        return False\n",
    "\n",
    "palindrome_arr = list()\n",
    "for i in range(start_num, end_num):\n",
    "    for j in range(start_num, end_num):\n",
    "        multiply_num = i * j\n",
    "        if check_palindrome(multiply_num):\n",
    "            palindrome_arr.append(multiply_num)\n",
    "            \n",
    "result = max(palindrome_arr)\n",
    "print(f\"max of palindrome_arr: {result}\")"
   ]
  },
  {
   "cell_type": "markdown",
   "id": "fea7663f-3a2f-4f23-8a84-0b5799643af0",
   "metadata": {},
   "source": [
    "## **5. 1 ~ 20 사이의 어떤 수로도 나누어 떨어지는 가장 작은 수**"
   ]
  },
  {
   "cell_type": "markdown",
   "id": "a14aa1d6-588e-4cfa-a61c-2e888e7f1892",
   "metadata": {},
   "source": [
    "1 ~ 10 사이의 어떤 수로도 나누어 떨어지는 가장 작은 수는 2520입니다.\n",
    "\n",
    "그러면 1 ~ 20 사이의 어떤 수로도 나누어 떨어지는 가장 작은 수는 얼마입니까?"
   ]
  },
  {
   "cell_type": "markdown",
   "id": "f7b6300b-cc30-4728-abcf-4953d0e299d3",
   "metadata": {},
   "source": [
    "- 나눌 수 초기 값 설정\n",
    "- 1 ~ 20 사이 어떤 수로 나누어도 나머지가 0인 수 찾기\n",
    "- 나누어 떨어지는 수의 개수가 총 사이의 개수와 같으면 무한 루프 브레이크"
   ]
  },
  {
   "cell_type": "code",
   "execution_count": null,
   "id": "302a5847-bbef-4170-ac1d-a137b75c4080",
   "metadata": {},
   "outputs": [
    {
     "name": "stdout",
     "output_type": "stream",
     "text": [
      "result: 232792560\n"
     ]
    }
   ],
   "source": [
    "start_num = 1\n",
    "end_num = 20\n",
    "\n",
    "target_num= 0\n",
    "while True:\n",
    "    cnt = 0\n",
    "    for i in range(start_num, end_num + 1):\n",
    "        if target_num == 0:\n",
    "            break\n",
    "        else:\n",
    "            remainder = target_num % i\n",
    "            if remainder == 0:\n",
    "                cnt += 1\n",
    "                continue\n",
    "            else:\n",
    "                break\n",
    "            \n",
    "    if cnt == end_num:\n",
    "        break\n",
    "    else:\n",
    "        target_num += 1\n",
    "    \n",
    "result = target_num\n",
    "print(f\"result: {result}\")"
   ]
  }
 ],
 "metadata": {
  "kernelspec": {
   "display_name": "Python 3 (ipykernel)",
   "language": "python",
   "name": "python3"
  },
  "language_info": {
   "codemirror_mode": {
    "name": "ipython",
    "version": 3
   },
   "file_extension": ".py",
   "mimetype": "text/x-python",
   "name": "python",
   "nbconvert_exporter": "python",
   "pygments_lexer": "ipython3",
   "version": "3.7.15"
  }
 },
 "nbformat": 4,
 "nbformat_minor": 5
}
